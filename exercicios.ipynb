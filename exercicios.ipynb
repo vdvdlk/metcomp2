{
 "cells": [
  {
   "cell_type": "code",
   "execution_count": 1,
   "metadata": {},
   "outputs": [],
   "source": [
    "import numpy as np\n",
    "from pint import UnitRegistry\n",
    "import matplotlib.pyplot as plt"
   ]
  },
  {
   "cell_type": "markdown",
   "metadata": {},
   "source": [
    "# Simulação de decaimento radioativo"
   ]
  },
  {
   "cell_type": "code",
   "execution_count": 2,
   "metadata": {},
   "outputs": [],
   "source": [
    "def initialize():\n",
    "    \"\"\"\n",
    "    Inicializa as variáveis\n",
    "    \"\"\"\n",
    "    nuclei = float(input('Número inicial de núcleos -> '))\n",
    "    tc = float(input('Constante temporal -> '))\n",
    "    dt = float(input('Passo temporal -> '))\n",
    "    t = float(input('Tempo total -> '))\n",
    "    t_i = 0\n",
    "    n = min(int(t / dt), 100)\n",
    "    return nuclei, tc, dt, t_i, n\n",
    "\n",
    "\n",
    "def calculate(n_uranium, t, tau, dt, n):\n",
    "    \"\"\"\n",
    "    Usa o método de Euler\n",
    "    \"\"\"\n",
    "    for i in range(n - 1):\n",
    "        n_uranium = np.append(\n",
    "            n_uranium,\n",
    "            n_uranium[i] - (n_uranium[i] / tau) * dt\n",
    "        )\n",
    "        t = np.append(\n",
    "            t,\n",
    "            t[i] + dt\n",
    "        )\n",
    "    return n_uranium, t\n",
    "\n",
    "\n",
    "# def store():\n",
    "#     with open('decay.dat', 'w') as f:\n",
    "#         f.write('readme')\n"
   ]
  },
  {
   "cell_type": "code",
   "execution_count": 3,
   "metadata": {},
   "outputs": [],
   "source": [
    "var_i = initialize()\n",
    "n_uranium = np.array([var_i[0]])  # 100\n",
    "tau = var_i[1]  # 1\n",
    "dt = var_i[2]  # 0.05\n",
    "t = np.array([var_i[3]])  # 0\n",
    "n = var_i[4]\n",
    "\n",
    "n_uranium, t = calculate(n_uranium, t, tau, dt, n)"
   ]
  },
  {
   "cell_type": "code",
   "execution_count": 21,
   "metadata": {},
   "outputs": [
    {
     "data": {
      "text/plain": [
       "[<matplotlib.lines.Line2D at 0x7fefaab5fe80>]"
      ]
     },
     "execution_count": 21,
     "metadata": {},
     "output_type": "execute_result"
    },
    {
     "data": {
      "image/png": "[encoded data removed]",
      "text/plain": [
       "<Figure size 432x288 with 1 Axes>"
      ]
     },
     "metadata": {
      "needs_background": "light"
     },
     "output_type": "display_data"
    }
   ],
   "source": [
    "plt.xlabel('tempo (s)')\n",
    "plt.ylabel('Número de núcleos')\n",
    "plt.plot(t, n_uranium, '.')\n",
    "plt.grid()\n",
    "\n",
    "x = np.linspace(0, 5, 1000)\n",
    "y = n_uranium[0] * np.exp( -x / tau )\n",
    "plt.plot(x, y)\n",
    "\n",
    "# plt.xlim(3, 4)"
   ]
  },
  {
   "cell_type": "code",
   "execution_count": 23,
   "metadata": {},
   "outputs": [
    {
     "data": {
      "text/plain": [
       "101"
      ]
     },
     "execution_count": 23,
     "metadata": {},
     "output_type": "execute_result"
    }
   ],
   "source": [
    "np.size(t)"
   ]
  }
 ],
 "metadata": {
  "kernelspec": {
   "display_name": "Python 3.9.2 64-bit",
   "language": "python",
   "name": "python3"
  },
  "language_info": {
   "codemirror_mode": {
    "name": "ipython",
    "version": 3
   },
   "file_extension": ".py",
   "mimetype": "text/x-python",
   "name": "python",
   "nbconvert_exporter": "python",
   "pygments_lexer": "ipython3",
   "version": "3.9.2"
  },
  "orig_nbformat": 4,
  "vscode": {
   "interpreter": {
    "hash": "916dbcbb3f70747c44a77c7bcd40155683ae19c65e1c03b4aa3499c5328201f1"
   }
  }
 },
 "nbformat": 4,
 "nbformat_minor": 2
}
