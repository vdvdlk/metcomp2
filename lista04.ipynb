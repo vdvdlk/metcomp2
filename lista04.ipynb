{
 "cells": [
  {
   "cell_type": "code",
   "execution_count": 1,
   "metadata": {},
   "outputs": [],
   "source": [
    "import numpy as np\n",
    "import matplotlib.pyplot as plt\n",
    "from tqdm.auto import trange\n"
   ]
  },
  {
   "cell_type": "markdown",
   "metadata": {},
   "source": [
    "# Exercício 1"
   ]
  },
  {
   "cell_type": "code",
   "execution_count": 2,
   "metadata": {},
   "outputs": [],
   "source": [
    "def xor(bool1: bool, bool2: bool) -> bool:\n",
    "    return bool1 != bool2\n",
    "\n",
    "\n",
    "def regra_90(N: int = 141, t: int = 70) -> np.ndarray:\n",
    "    matriz = np.zeros((t, N), dtype=bool)\n",
    "    matriz[0, N // 2] = True\n",
    "\n",
    "    for tt in range(t - 1):\n",
    "        for i in range(1, N - 1):\n",
    "            matriz[tt + 1, i] = xor(matriz[tt, i - 1], matriz[tt, i + 1])\n",
    "\n",
    "    matriz = matriz.astype(int)\n",
    "    return matriz\n"
   ]
  },
  {
   "cell_type": "code",
   "execution_count": 3,
   "metadata": {},
   "outputs": [
    {
     "data": {
      "text/plain": [
       "<matplotlib.image.AxesImage at 0x7f35bd8ba190>"
      ]
     },
     "execution_count": 3,
     "metadata": {},
     "output_type": "execute_result"
    },
    {
     "data": {
      "image/png": "[encoded data removed]",
      "text/plain": [
       "<Figure size 640x480 with 1 Axes>"
      ]
     },
     "metadata": {},
     "output_type": "display_data"
    }
   ],
   "source": [
    "matriz = regra_90()\n",
    "# print(matriz)\n",
    "\n",
    "fig1, ax1 = plt.subplots()\n",
    "# fig1.set_size_inches((20, 20))\n",
    "ax1.set_title('Triângulo de Sierpinski')\n",
    "ax1.set_xlabel('Posição $i$')\n",
    "ax1.set_ylabel('Passo $t$')\n",
    "\n",
    "ax1.imshow(X=matriz)\n",
    "\n",
    "# fig1.savefig(\n",
    "#     fname='lista04/fig_1.pdf',\n",
    "#     dpi=1000\n",
    "# )\n"
   ]
  },
  {
   "cell_type": "markdown",
   "metadata": {},
   "source": [
    "# Exercício 2"
   ]
  },
  {
   "cell_type": "code",
   "execution_count": 4,
   "metadata": {},
   "outputs": [],
   "source": [
    "def verificar_retangulo(matriz: np.ndarray = matriz, t_i: int = 0, t_f: int = -1, i_i: int = 0, i_f: int = -1) -> bool:\n",
    "    return 1 in matriz[t_i:t_f, i_i:i_f]\n",
    "\n",
    "\n",
    "def caixas(L: int, matriz: np.ndarray = matriz) -> np.ndarray:\n",
    "    t, N = np.shape(matriz)\n",
    "    "
   ]
  },
  {
   "cell_type": "code",
   "execution_count": 5,
   "metadata": {},
   "outputs": [
    {
     "data": {
      "text/plain": [
       "(70, 141)"
      ]
     },
     "execution_count": 5,
     "metadata": {},
     "output_type": "execute_result"
    }
   ],
   "source": [
    "np.shape(matriz)"
   ]
  }
 ],
 "metadata": {
  "kernelspec": {
   "display_name": "Python 3.11.0 ('venv': venv)",
   "language": "python",
   "name": "python3"
  },
  "language_info": {
   "codemirror_mode": {
    "name": "ipython",
    "version": 3
   },
   "file_extension": ".py",
   "mimetype": "text/x-python",
   "name": "python",
   "nbconvert_exporter": "python",
   "pygments_lexer": "ipython3",
   "version": "3.11.0"
  },
  "orig_nbformat": 4,
  "vscode": {
   "interpreter": {
    "hash": "e00e3aa15a7293e6ab4684a9c47ddf3589674cc1d7990477dfff4331364b3f93"
   }
  }
 },
 "nbformat": 4,
 "nbformat_minor": 2
}
