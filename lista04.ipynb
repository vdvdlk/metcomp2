{
 "cells": [
  {
   "cell_type": "code",
   "execution_count": 1,
   "metadata": {},
   "outputs": [],
   "source": [
    "import numpy as np\n",
    "import matplotlib.pyplot as plt\n",
    "from tqdm.auto import trange\n"
   ]
  },
  {
   "cell_type": "markdown",
   "metadata": {},
   "source": [
    "# Exercício 1"
   ]
  },
  {
   "cell_type": "code",
   "execution_count": 2,
   "metadata": {},
   "outputs": [],
   "source": [
    "def xor(bool1, bool2):\n",
    "    return bool1 != bool2\n",
    "\n",
    "# tabela_verdade = np.zeros((2, 2), dtype=bool)\n",
    "# bool_list = [True, False]\n",
    "# i = 0\n",
    "# for value1 in bool_list:\n",
    "#     j = 0\n",
    "#     for value2 in bool_list:\n",
    "#         tabela_verdade[i, j] = xor(value1, value2)\n",
    "#         j += 1\n",
    "#     i += 1\n",
    "\n",
    "# print(tabela_verdade)\n"
   ]
  },
  {
   "cell_type": "code",
   "execution_count": 3,
   "metadata": {},
   "outputs": [
    {
     "data": {
      "text/plain": [
       "<matplotlib.image.AxesImage at 0x7fb271fa4fd0>"
      ]
     },
     "execution_count": 3,
     "metadata": {},
     "output_type": "execute_result"
    },
    {
     "data": {
      "image/png": "[encoded data removed]",
      "text/plain": [
       "<Figure size 640x480 with 1 Axes>"
      ]
     },
     "metadata": {},
     "output_type": "display_data"
    }
   ],
   "source": [
    "N = 141\n",
    "t = 70\n",
    "\n",
    "matriz = np.zeros((t, N), dtype=bool)\n",
    "matriz[0, N // 2] = True\n",
    "\n",
    "for tt in range(t - 1):\n",
    "    for i in range(1, N - 1):\n",
    "        matriz[tt + 1, i] = xor(matriz[tt, i - 1], matriz[tt, i + 1])\n",
    "\n",
    "matriz = matriz.astype(int)\n",
    "# print(matriz)\n",
    "\n",
    "fig1, ax1 = plt.subplots()\n",
    "ax1.imshow(matriz)\n"
   ]
  }
 ],
 "metadata": {
  "kernelspec": {
   "display_name": "Python 3.9.2 ('.venv')",
   "language": "python",
   "name": "python3"
  },
  "language_info": {
   "codemirror_mode": {
    "name": "ipython",
    "version": 3
   },
   "file_extension": ".py",
   "mimetype": "text/x-python",
   "name": "python",
   "nbconvert_exporter": "python",
   "pygments_lexer": "ipython3",
   "version": "3.9.2"
  },
  "orig_nbformat": 4,
  "vscode": {
   "interpreter": {
    "hash": "78d2e00a9196b6c47a0dec529c442e4bd0d345f5c4a9070c330ea9fc153c4f67"
   }
  }
 },
 "nbformat": 4,
 "nbformat_minor": 2
}
