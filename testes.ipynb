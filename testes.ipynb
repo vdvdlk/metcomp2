{
 "cells": [
  {
   "cell_type": "code",
   "execution_count": 1,
   "metadata": {},
   "outputs": [],
   "source": [
    "from sistemas_aleatorios import array_inicial, primeiros_vizinhos, iteracao_leath\n",
    "from matplotlib.pyplot import imshow"
   ]
  },
  {
   "cell_type": "code",
   "execution_count": 68,
   "metadata": {
    "tags": []
   },
   "outputs": [
    {
     "data": {
      "text/plain": [
       "<matplotlib.image.AxesImage at 0x7f969b40bed0>"
      ]
     },
     "execution_count": 68,
     "metadata": {},
     "output_type": "execute_result"
    },
    {
     "data": {
      "image/png": "[encoded data removed]",
      "text/plain": [
       "<Figure size 640x480 with 1 Axes>"
      ]
     },
     "metadata": {},
     "output_type": "display_data"
    }
   ],
   "source": [
    "X = array_inicial(L=10)\n",
    "X = primeiros_vizinhos(X)\n",
    "# print(X[:, :, 0], '\\n')\n",
    "# print(X[:, :, 1], '\\n')\n",
    "# print(X[:, :, 2])\n",
    "imshow(X[:, :, 1])"
   ]
  },
  {
   "cell_type": "code",
   "execution_count": 78,
   "metadata": {},
   "outputs": [
    {
     "data": {
      "text/plain": [
       "<matplotlib.image.AxesImage at 0x7f969b1fbe10>"
      ]
     },
     "execution_count": 78,
     "metadata": {},
     "output_type": "execute_result"
    },
    {
     "data": {
      "image/png": "[encoded data removed]",
      "text/plain": [
       "<Figure size 640x480 with 1 Axes>"
      ]
     },
     "metadata": {},
     "output_type": "display_data"
    }
   ],
   "source": [
    "X = iteracao_leath(X)\n",
    "X = primeiros_vizinhos(X)\n",
    "# print(X[:, :, 0], '\\n')\n",
    "# print(X[:, :, 1], '\\n')\n",
    "# print(X[:, :, 2])\n",
    "imshow(X[:, :, 1])"
   ]
  },
  {
   "cell_type": "code",
   "execution_count": 67,
   "metadata": {},
   "outputs": [
    {
     "data": {
      "text/plain": [
       "<matplotlib.image.AxesImage at 0x7f969b555910>"
      ]
     },
     "execution_count": 67,
     "metadata": {},
     "output_type": "execute_result"
    },
    {
     "data": {
      "image/png": "[encoded data removed]",
      "text/plain": [
       "<Figure size 640x480 with 1 Axes>"
      ]
     },
     "metadata": {},
     "output_type": "display_data"
    }
   ],
   "source": [
    "imshow(X[:, :, 0])"
   ]
  },
  {
   "cell_type": "code",
   "execution_count": 4,
   "metadata": {},
   "outputs": [
    {
     "name": "stdout",
     "output_type": "stream",
     "text": [
      "[[0 0 0 0 0 0 0 0 0 0]\n",
      " [0 0 0 0 0 0 0 0 0 0]\n",
      " [0 0 0 0 0 0 0 0 0 0]\n",
      " [0 0 0 0 0 1 0 0 0 0]\n",
      " [0 0 0 0 1 1 1 0 0 0]\n",
      " [0 0 0 1 1 1 1 1 0 0]\n",
      " [0 0 0 0 1 1 1 0 0 0]\n",
      " [0 0 0 0 0 1 0 0 0 0]\n",
      " [0 0 0 0 0 0 0 0 0 0]\n",
      " [0 0 0 0 0 0 0 0 0 0]] \n",
      "\n",
      "[[0 0 0 0 0 0 0 0 0 0]\n",
      " [0 0 0 0 0 0 0 0 0 0]\n",
      " [0 0 0 0 0 1 0 0 0 0]\n",
      " [0 0 0 0 1 0 1 0 0 0]\n",
      " [0 0 0 1 0 0 0 1 0 0]\n",
      " [0 0 1 0 0 0 0 0 1 0]\n",
      " [0 0 0 1 0 0 0 1 0 0]\n",
      " [0 0 0 0 1 0 1 0 0 0]\n",
      " [0 0 0 0 0 1 0 0 0 0]\n",
      " [0 0 0 0 0 0 0 0 0 0]] \n",
      "\n",
      "[[0 0 0 0 0 0 0 0 0 0]\n",
      " [0 0 0 0 0 0 0 0 0 0]\n",
      " [0 0 0 0 0 0 0 0 0 0]\n",
      " [0 0 0 0 0 1 0 0 0 0]\n",
      " [0 0 0 0 1 1 1 0 0 0]\n",
      " [0 0 0 1 1 1 1 1 0 0]\n",
      " [0 0 0 0 1 1 1 0 0 0]\n",
      " [0 0 0 0 0 1 0 0 0 0]\n",
      " [0 0 0 0 0 0 0 0 0 0]\n",
      " [0 0 0 0 0 0 0 0 0 0]]\n"
     ]
    }
   ],
   "source": [
    "X = iteracao_leath(X, p=1)\n",
    "X = primeiros_vizinhos(X)\n",
    "print(X[:, :, 0], '\\n')\n",
    "print(X[:, :, 1], '\\n')\n",
    "print(X[:, :, 2])"
   ]
  },
  {
   "cell_type": "code",
   "execution_count": 5,
   "metadata": {},
   "outputs": [
    {
     "name": "stdout",
     "output_type": "stream",
     "text": [
      "[[0 0 0 0 0 0 0 0 0 0]\n",
      " [0 0 0 0 0 0 0 0 0 0]\n",
      " [0 0 0 0 0 1 0 0 0 0]\n",
      " [0 0 0 0 1 1 1 0 0 0]\n",
      " [0 0 0 1 1 1 1 1 0 0]\n",
      " [0 0 1 1 1 1 1 1 1 0]\n",
      " [0 0 0 1 1 1 1 1 0 0]\n",
      " [0 0 0 0 1 1 1 0 0 0]\n",
      " [0 0 0 0 0 1 0 0 0 0]\n",
      " [0 0 0 0 0 0 0 0 0 0]] \n",
      "\n",
      "[[0 0 0 0 0 0 0 0 0 0]\n",
      " [0 0 0 0 0 1 0 0 0 0]\n",
      " [0 0 0 0 1 0 1 0 0 0]\n",
      " [0 0 0 1 0 0 0 1 0 0]\n",
      " [0 0 1 0 0 0 0 0 1 0]\n",
      " [0 1 0 0 0 0 0 0 0 1]\n",
      " [0 0 1 0 0 0 0 0 1 0]\n",
      " [0 0 0 1 0 0 0 1 0 0]\n",
      " [0 0 0 0 1 0 1 0 0 0]\n",
      " [0 0 0 0 0 1 0 0 0 0]] \n",
      "\n",
      "[[0 0 0 0 0 0 0 0 0 0]\n",
      " [0 0 0 0 0 0 0 0 0 0]\n",
      " [0 0 0 0 0 1 0 0 0 0]\n",
      " [0 0 0 0 1 1 1 0 0 0]\n",
      " [0 0 0 1 1 1 1 1 0 0]\n",
      " [0 0 1 1 1 1 1 1 1 0]\n",
      " [0 0 0 1 1 1 1 1 0 0]\n",
      " [0 0 0 0 1 1 1 0 0 0]\n",
      " [0 0 0 0 0 1 0 0 0 0]\n",
      " [0 0 0 0 0 0 0 0 0 0]]\n"
     ]
    }
   ],
   "source": [
    "X = iteracao_leath(X, p=1)\n",
    "X = primeiros_vizinhos(X)\n",
    "print(X[:, :, 0], '\\n')\n",
    "print(X[:, :, 1], '\\n')\n",
    "print(X[:, :, 2])"
   ]
  },
  {
   "cell_type": "code",
   "execution_count": 6,
   "metadata": {},
   "outputs": [
    {
     "name": "stdout",
     "output_type": "stream",
     "text": [
      "[[0 0 0 0 0 0 0 0 0 0]\n",
      " [0 0 0 0 0 1 0 0 0 0]\n",
      " [0 0 0 0 1 1 1 0 0 0]\n",
      " [0 0 0 1 1 1 1 1 0 0]\n",
      " [0 0 1 1 1 1 1 1 1 0]\n",
      " [0 1 1 1 1 1 1 1 1 1]\n",
      " [0 0 1 1 1 1 1 1 1 0]\n",
      " [0 0 0 1 1 1 1 1 0 0]\n",
      " [0 0 0 0 1 1 1 0 0 0]\n",
      " [0 0 0 0 0 1 0 0 0 0]] \n",
      "\n",
      "[[0 0 0 0 0 1 0 0 0 0]\n",
      " [0 0 0 0 1 0 1 0 0 0]\n",
      " [0 0 0 1 0 0 0 1 0 0]\n",
      " [0 0 1 0 0 0 0 0 1 0]\n",
      " [0 1 0 0 0 0 0 0 0 1]\n",
      " [1 0 0 0 0 0 0 0 0 0]\n",
      " [0 1 0 0 0 0 0 0 0 1]\n",
      " [0 0 1 0 0 0 0 0 1 0]\n",
      " [0 0 0 1 0 0 0 1 0 0]\n",
      " [0 0 0 0 1 0 1 0 0 0]] \n",
      "\n",
      "[[0 0 0 0 0 0 0 0 0 0]\n",
      " [0 0 0 0 0 1 0 0 0 0]\n",
      " [0 0 0 0 1 1 1 0 0 0]\n",
      " [0 0 0 1 1 1 1 1 0 0]\n",
      " [0 0 1 1 1 1 1 1 1 0]\n",
      " [0 1 1 1 1 1 1 1 1 1]\n",
      " [0 0 1 1 1 1 1 1 1 0]\n",
      " [0 0 0 1 1 1 1 1 0 0]\n",
      " [0 0 0 0 1 1 1 0 0 0]\n",
      " [0 0 0 0 0 1 0 0 0 0]]\n"
     ]
    }
   ],
   "source": [
    "X = iteracao_leath(X, p=1)\n",
    "X = primeiros_vizinhos(X)\n",
    "print(X[:, :, 0], '\\n')\n",
    "print(X[:, :, 1], '\\n')\n",
    "print(X[:, :, 2])"
   ]
  },
  {
   "cell_type": "code",
   "execution_count": 32,
   "metadata": {},
   "outputs": [
    {
     "name": "stdout",
     "output_type": "stream",
     "text": [
      "[[1 1 1 1 1 1 1 1 1 1]\n",
      " [1 1 1 1 1 1 1 1 1 1]\n",
      " [1 1 1 1 1 1 1 1 1 1]\n",
      " [1 1 1 1 1 1 1 1 1 1]\n",
      " [1 1 1 1 1 1 1 1 1 1]\n",
      " [1 1 1 1 1 1 1 1 1 1]\n",
      " [1 1 1 1 1 1 1 1 1 1]\n",
      " [1 1 1 1 1 1 1 1 1 1]\n",
      " [1 1 1 1 1 1 1 1 1 1]\n",
      " [1 1 1 1 1 1 1 1 1 1]] \n",
      "\n",
      "[[0 0 0 0 0 0 0 0 0 0]\n",
      " [0 0 0 0 0 0 0 0 0 0]\n",
      " [0 0 0 0 0 0 0 0 0 0]\n",
      " [0 0 0 0 0 0 0 0 0 0]\n",
      " [0 0 0 0 0 0 0 0 0 0]\n",
      " [0 0 0 0 0 0 0 0 0 0]\n",
      " [0 0 0 0 0 0 0 0 0 0]\n",
      " [0 0 0 0 0 0 0 0 0 0]\n",
      " [0 0 0 0 0 0 0 0 0 0]\n",
      " [0 0 0 0 0 0 0 0 0 0]] \n",
      "\n",
      "[[1 1 1 1 1 1 1 1 1 1]\n",
      " [1 1 1 1 1 1 1 1 1 1]\n",
      " [1 1 1 1 1 1 1 1 1 1]\n",
      " [1 1 1 1 1 1 1 1 1 1]\n",
      " [1 1 1 1 1 1 1 1 1 1]\n",
      " [1 1 1 1 1 1 1 1 1 1]\n",
      " [1 1 1 1 1 1 1 1 1 1]\n",
      " [1 1 1 1 1 1 1 1 1 1]\n",
      " [1 1 1 1 1 1 1 1 1 1]\n",
      " [1 1 1 1 1 1 1 1 1 1]]\n"
     ]
    }
   ],
   "source": [
    "X = iteracao_leath(X, p=1)\n",
    "X = primeiros_vizinhos(X)\n",
    "print(X[:, :, 0], '\\n')\n",
    "print(X[:, :, 1], '\\n')\n",
    "print(X[:, :, 2])"
   ]
  }
 ],
 "metadata": {
  "kernelspec": {
   "display_name": "Python 3 (ipykernel)",
   "language": "python",
   "name": "python3"
  },
  "language_info": {
   "codemirror_mode": {
    "name": "ipython",
    "version": 3
   },
   "file_extension": ".py",
   "mimetype": "text/x-python",
   "name": "python",
   "nbconvert_exporter": "python",
   "pygments_lexer": "ipython3",
   "version": "3.11.0"
  },
  "vscode": {
   "interpreter": {
    "hash": "2af1e19d1cb543380d4d1f43ee5952b602b9f57499fa4c87009acc16726edca2"
   }
  }
 },
 "nbformat": 4,
 "nbformat_minor": 4
}
